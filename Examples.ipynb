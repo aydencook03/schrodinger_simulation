{
 "cells": [
  {
   "cell_type": "markdown",
   "id": "4f502e87-ada5-4353-8536-7607ffa87084",
   "metadata": {},
   "source": [
    "# Simulating the Schrodinger Equation\n",
    "\n",
    "---"
   ]
  },
  {
   "cell_type": "markdown",
   "id": "076fa505-8c48-484b-8373-8b83b8ab2aa5",
   "metadata": {},
   "source": [
    "### Dynamical Equation\n",
    "\n",
    "The principles of quantum mechanics tell us that the time evolution of a quantum state $|\\psi\\rangle$ is governed by the Schrodinger Equation.\n",
    "\n",
    "$$\\hat{H}|\\psi\\rangle = i\\hbar\\frac{d}{dt}|\\psi\\rangle$$\n",
    "\n",
    "Where $\\hat{H}$ is the Hamiltonian Operator and is associated with the energy of the system. Classically we also know that the energy of a system is given by the sum of kinetic and potential energy.\n",
    "\n",
    "$$E = H = \\frac{p^2}{2m} + V$$\n",
    "\n",
    "Here we will be focusing on the dynamics of a particle in one-dimensional space, so it is natural to represent all of our equations in the position basis. By projecting our state and operators onto this basis, we get $\\langle x|\\psi\\rangle = \\psi(t, x)$, $\\langle x|\\hat{H}|\\psi\\rangle = i\\hbar\\frac{\\partial\\psi}{\\partial t}$, $\\langle x|\\hat{p}|\\psi\\rangle = -i\\hbar\\frac{\\partial\\psi}{\\partial x}$, and $\\langle x|\\hat{x}|\\psi\\rangle = x\\psi(t,x)$.\n",
    "\n",
    "By combining all of this with the Schrodinger Equation we yield a PDE that describes the dynamics of the wavefunction $\\psi(t,x)$.\n",
    "\n",
    "$$-\\frac{\\hbar^2}{2m}\\frac{\\partial^2\\psi}{\\partial x^2} + V(t, x)\\psi(t,x) = i\\hbar\\frac{\\partial\\psi}{\\partial t}$$\n",
    "\n",
    "We may then multiply by $\\frac{-i}{\\hbar}$ to get an equation that will be more useful to us.\n",
    "\n",
    "$$\\frac{\\partial\\psi}{\\partial t} = \\frac{i\\hbar}{2m}\\frac{\\partial^2\\psi}{\\partial x^2} - \\frac{i}{\\hbar}V(t,x)\\psi(t,x)$$"
   ]
  },
  {
   "cell_type": "markdown",
   "id": "55a6d7e0-1178-4f42-b4c1-f620631f0c9f",
   "metadata": {
    "jp-MarkdownHeadingCollapsed": true
   },
   "source": [
    "### Math Background\n",
    "\n",
    "#### Taylor Series\n",
    "\n",
    "$$f(x+h) = f(x) + hf'(x) + \\frac{h^2}{2}f''(x) + O(h^3)$$\n",
    "$$f(x+2h) = f(x) + 2hf'(x) + 2h^2f''(x) + O(h^3)$$\n",
    "$$f(x-h) = f(x) - hf'(x) + \\frac{h^2}{2}f''(x) + O(h^3)$$\n",
    "$$f(x-2h) = f(x) - 2hf'(x) + 2h^2f''(x) + O(h^3)$$\n",
    "\n",
    "#### Finite Differences\n",
    "\n",
    "$$\\frac{f(x+2h) - 2f(x+h) + f(x)}{h^2} + O(h) = f''(x)$$\n",
    "$$\\frac{f(x+h) - 2f(x) + f(x-h)}{h^2} + O(h) = f''(x)$$\n",
    "$$\\frac{f(x-2h) - 2f(x-h) + f(x)}{h^2} + O(h) = f''(x)$$"
   ]
  },
  {
   "cell_type": "markdown",
   "id": "32cbf3c0-b184-4ade-99a4-0f7d2239b2b6",
   "metadata": {},
   "source": [
    "### Discretizing\n",
    "\n",
    "The ultimate goal here is to be able to simulate these one-dimensional wavefunctions, $\\psi(t,x)$, for any potential $V(t,x)$ and any initial condition $\\psi(0,x)$.\n",
    "\n",
    "$$x = x_j = j\\Delta x$$\n",
    "$$x + \\Delta x = (j+1)\\Delta x$$\n",
    "$$\\psi(t,x) = \\psi_j(t)$$\n",
    "$$\\psi(t,x+\\Delta x) = \\psi_{j+1}(t)$$\n",
    "\n",
    "$$\\frac{d\\psi_j}{dt} = \\frac{i\\hbar}{2m}D^2\\psi_j(t) - \\frac{i}{\\hbar}V(t,x_j)\\psi_j(t)$$\n",
    "\n",
    "$$D^2_l\\psi_j = \\frac{\\psi_{j+2} - 2\\psi_{j+1} + \\psi_j}{(\\Delta x)^2}$$\n",
    "$$D^2_m\\psi_j = \\frac{\\psi_{j+1} - 2\\psi_{j} + \\psi_{j-1}}{(\\Delta x)^2}$$\n",
    "$$D^2_r\\psi_j = \\frac{\\psi_{j} - 2\\psi_{j-1} + \\psi_{j-2}}{(\\Delta x)^2}$$"
   ]
  },
  {
   "cell_type": "markdown",
   "id": "e8e4b9cf-48e5-4c4e-9a09-37e15dfe1139",
   "metadata": {},
   "source": [
    "### Wavepackets\n",
    "\n",
    "$$\\phi(p) = \\left(\\frac{1}{2\\pi\\sigma_p^2}\\right)^{\\frac{1}{4}}e^{-\\frac{\\left(p-p_0\\right)^2}{4\\sigma_p^2}}$$\n",
    "\n",
    "$$\\psi(0,x) = \\frac{1}{\\sqrt{2\\pi\\hbar}}\\int_{-\\infty}^{\\infty}\\phi(p)e^{ipx/\\hbar}dp = \\left(\\frac{2\\sigma_p^2}{\\pi\\hbar^2}\\right)^{\\frac{1}{4}}e^{\\frac{-\\left(x-x_0\\right)^2\\sigma_p^2 + ip_0\\hbar x}{\\hbar^2}}$$\n",
    "\n",
    "$$\\sigma_x\\sigma_p = \\frac{\\hbar}{2}$$\n",
    "\n",
    "$$\\psi(0,x) = \\left(\\frac{1}{2\\pi\\sigma_x^2}\\right)^{\\frac{1}{4}}e^{-\\frac{\\left(x-x_0\\right)^2}{4\\sigma_x^2}}e^{\\frac{ip_0x}{\\hbar}}$$"
   ]
  },
  {
   "cell_type": "markdown",
   "id": "d14d39f3-3887-4f09-b769-06f436bb1874",
   "metadata": {},
   "source": [
    "Todo:\n",
    "- stability & conservation\n",
    "- boundary conditions (fixed, transparent, periodic)\n",
    "- periodic potentials\n",
    "- eigenstates\n",
    "- jupyter notebook\n",
    "- interactivity"
   ]
  },
  {
   "cell_type": "code",
   "execution_count": null,
   "id": "39fbff1c-38d0-4bf7-8220-9fdbbc26ad34",
   "metadata": {},
   "outputs": [],
   "source": []
  }
 ],
 "metadata": {
  "kernelspec": {
   "display_name": "Python 3 (ipykernel)",
   "language": "python",
   "name": "python3"
  },
  "language_info": {
   "codemirror_mode": {
    "name": "ipython",
    "version": 3
   },
   "file_extension": ".py",
   "mimetype": "text/x-python",
   "name": "python",
   "nbconvert_exporter": "python",
   "pygments_lexer": "ipython3",
   "version": "3.11.8"
  }
 },
 "nbformat": 4,
 "nbformat_minor": 5
}
