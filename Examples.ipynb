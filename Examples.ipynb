{
 "cells": [
  {
   "cell_type": "markdown",
   "id": "4f502e87-ada5-4353-8536-7607ffa87084",
   "metadata": {},
   "source": [
    "# Simulating the Schrodinger Equation\n",
    "\n",
    "---"
   ]
  },
  {
   "cell_type": "markdown",
   "id": "076fa505-8c48-484b-8373-8b83b8ab2aa5",
   "metadata": {},
   "source": [
    "### Math Background\n",
    "\n",
    "#### The Schrodinger Equation\n",
    "\n",
    "From quantum mechanics we know that the time evolution of a quantum state $|\\psi\\rangle$ is governed by the Schrodinger Equation.\n",
    "\n",
    "$$\\hat{H}|\\psi\\rangle = i\\hbar\\frac{d}{dt}|\\psi\\rangle$$\n",
    "\n",
    "Where $\\hat{H}$ is the Hamiltonian Operator and is associated with the energy of the system. Classically we also know that the energy of a system is given by the sum of kinetic and potential energy.\n",
    "\n",
    "$$E = H = \\frac{p^2}{2m} + V$$\n",
    "\n",
    "Focusing on a single particle system in one dimension of space gives a wavefunction that is represented by a complex-valued function over the x-axis, $\\psi(t, x)$. Substituting the appropriate operators into the Schrodinger Equation gives the PDE describing the dynamics of this complex-valued function.\n",
    "\n",
    "$$\\left(-\\frac{\\hbar^2}{2m}\\frac{\\partial^2}{\\partial x^2} + V(t, x)\\right)\\psi(t,x) = i\\hbar\\frac{\\partial\\psi}{\\partial t}$$\n",
    "\n",
    "Multiplying by $\\frac{-i}{\\hbar}$ and expanding gives an equation that will be more useful after discretization.\n",
    "\n",
    "$$\\frac{\\partial\\psi}{\\partial t} = \\frac{i\\hbar}{2m}\\frac{\\partial^2\\psi}{\\partial x^2} - \\frac{i}{\\hbar}V(t,x)\\psi(t,x)$$\n",
    "\n",
    "#### Taylor Series\n",
    "\n",
    "A Taylor-Series expansion can be used to predict the forward step of a function using the derivatives at the current point.\n",
    "\n",
    "$$f(x+h) = f(x) + hf'(x) + \\frac{h^2}{2}f''(x) + O(h^3)$$\n",
    "\n",
    "Combining a few different forward steps allows us to get a finite difference approximation for $f''(x)$.\n",
    "\n",
    "$$\\frac{f(x+h) - 2f(x) + f(x-h)}{h^2} + O(h) = f''(x)$$ \n",
    "\n",
    "#### Discretizing Space\n",
    "\n",
    "$$x \\rightarrow x_j$$\n",
    "$$x + \\Delta x \\rightarrow x_{j+1}$$\n",
    "$$\\psi(t,x) \\rightarrow \\psi_j(t)$$\n",
    "$$\\psi(t,x+\\Delta x) \\rightarrow \\psi_{j+1}(t)$$\n",
    "\n",
    "$$\\frac{d\\psi_j}{dt} = \\frac{i\\hbar}{2m}D^2\\psi_j(t) - \\frac{i}{\\hbar}V(t,x_j)\\psi_j(t)$$\n",
    "\n",
    "$$D^2\\psi_j = \\frac{\\psi_{j+1} - 2\\psi_{j} + \\psi_{j-1}}{(\\Delta x)^2}$$\n",
    "\n",
    "#### Time Step\n",
    "\n",
    "The above discretized equation gives us a simple differential equation for each individual point on the spatial grid. The Runge-Kutta-4 algorithm is used in combination with this differential equation to step each grid point forward in time.\n",
    "\n",
    "#### Imaginary Time Evolution\n",
    "\n",
    "Taking timesteps in the $-i$ direction allows us to dampen higher energy eigenstates, isolating the lowest energy eigenstate present in the system. The reason for this can be seen by considering the formal solution to Schrodinger's Equation.\n",
    "\n",
    "$$|\\psi(t)\\rangle = \\sum_n c_n|E_n\\rangle e^{-i\\frac{E_n}{\\hbar}t}$$\n",
    "\n",
    "When we take $t\\rightarrow-it$ we get the following.\n",
    "\n",
    "$$|\\psi(-it)\\rangle = \\sum_n c_n|E_n\\rangle e^{-\\frac{E_n}{\\hbar}t}$$\n",
    "\n",
    "Each energy eigenstate portion of the wavefunction is being damped by a factor of $e^{-\\frac{E_n}{\\hbar}t}$, and thus higher energy components will quickly die out. Because we are normalizing the wavefunction after each time step, we will eventually only be left with the lowest eigenstate present.\n",
    "\n",
    "Once we find the lowest energy eigenstate, we can remove if from the system to then find the next eigenstate, and so on."
   ]
  },
  {
   "cell_type": "markdown",
   "id": "862a1c07-c054-490f-8a10-223dff928c5f",
   "metadata": {},
   "source": [
    "### Examples\n",
    "\n",
    "To use the `schrodinger.py` module, ensure that you have numpy and matplotlib installed. To interactively see the example animations with `%matplotlib widget`, you will need ipympl installed. A Pipfile has been included so that the command `pipenv sync -d` can be used to create an environment with all dependencies installed. `pipenv shell` spawns a shell within that environment. Make sure to stop every animation/plot by selecting it and pressing 'q' before running another."
   ]
  },
  {
   "cell_type": "code",
   "execution_count": null,
   "id": "4b20b0c9-a4da-49da-9e45-db0fa5c07dd2",
   "metadata": {},
   "outputs": [],
   "source": [
    "# Import the module and tell matplotlib we're using notebook widgets\n",
    "\n",
    "from schrodinger import *\n",
    "%matplotlib widget"
   ]
  },
  {
   "cell_type": "code",
   "execution_count": null,
   "id": "26c00ab5-6140-4176-9760-816cc3156140",
   "metadata": {},
   "outputs": [],
   "source": [
    "# Example 1: Diffusion\n",
    "\n",
    "particle = Particle.from_initial(wave_packet, x_0=0, p_0=0, sigma_x=0.1) # compare sigma_x=0.05 to sigma_x=0.2\n",
    "particle.animate(x_lim=(-2, 2), notebook=True)"
   ]
  },
  {
   "cell_type": "code",
   "execution_count": null,
   "id": "971d8b95-3b79-48ae-8473-a0a777c0deb2",
   "metadata": {},
   "outputs": [],
   "source": [
    "# Example 2: Travelling Particle\n",
    "\n",
    "particle = Particle.from_initial(wave_packet, x_0=0, p_0=20, sigma_x=0.1)\n",
    "particle.animate(x_lim=(-2, 2), notebook=True)"
   ]
  },
  {
   "cell_type": "code",
   "execution_count": null,
   "id": "3dc0fe19-7bac-4f96-a81a-445b924edd70",
   "metadata": {},
   "outputs": [],
   "source": [
    "# Example 3: Square Well\n",
    "\n",
    "particle = Particle.from_initial(wave_packet, x_0=0, p_0=20, sigma_x=0.4)\n",
    "particle.add_potential(barrier, 4, height=1000)\n",
    "particle.add_potential(barrier, -4, height=1000)\n",
    "particle.add_potential(barrier, 10, height=-1000)\n",
    "particle.animate(x_lim=(-6, 6), y_lim=(-0.25, 1.5), notebook=True, anim_length=1.0, save=False)"
   ]
  },
  {
   "cell_type": "code",
   "execution_count": null,
   "id": "ed335609-0413-4564-9c2a-fe6af3c61968",
   "metadata": {},
   "outputs": [],
   "source": [
    "# Example 3: Tunneling\n",
    "\n",
    "particle = Particle.from_initial(wave_packet, x_0=0, p_0=20, sigma_x=0.1)\n",
    "particle.add_potential(barrier, 1.5, height=300)\n",
    "particle.add_potential(barrier, -5, height=-1500)\n",
    "particle.animate(x_lim=(-4, 4), y_lim=(-0.5, 2.0), notebook=True, save=True)"
   ]
  },
  {
   "cell_type": "code",
   "execution_count": null,
   "id": "133133bd-a959-4a4a-bd80-1fbb57488860",
   "metadata": {},
   "outputs": [],
   "source": [
    "# Example 4: Simple Harmonic Oscillator\n",
    "\n",
    "particle = Particle.from_initial(wave_packet, x_0=0, p_0=20, sigma_x=0.3) # compare p_0=20 and p_0=40\n",
    "particle.add_potential(simple_harmonic)\n",
    "particle.animate(x_lim=(-10, 10), notebook=True)"
   ]
  },
  {
   "cell_type": "code",
   "execution_count": null,
   "id": "7201717b-c9ef-4280-8ab7-96b19f733aef",
   "metadata": {},
   "outputs": [],
   "source": [
    "# Example 5: Finite Square Well Damping To Ground State\n",
    "\n",
    "particle = Particle.from_initial(wave_packet, x_0=0, p_0=0, sigma_x=0.4)\n",
    "particle.add_potential(barrier, 2, height=20)\n",
    "particle.add_potential(barrier, -2, height=20)\n",
    "particle.animate(x_lim=(-3, 3), notebook=True, damp_eigen=True, v_scale=1)"
   ]
  },
  {
   "cell_type": "code",
   "execution_count": null,
   "id": "a05e40d4-0a88-4470-8c58-ccee63a54620",
   "metadata": {},
   "outputs": [],
   "source": [
    "# Example 6: Finite Square Well First Excited State Time Evolution\n",
    "\n",
    "particle = Particle.from_initial(wave_packet, x_0=0, p_0=0, sigma_x=1)\n",
    "particle.add_potential(barrier, 14, width=26, height=20)\n",
    "particle.add_potential(barrier, -14, width=26, height=20)\n",
    "particle.find_eigen(count=3)\n",
    "particle.psi.y = particle.eigenstates[2]\n",
    "particle.animate(x_lim=(-3, 3), notebook=True, v_scale=1)"
   ]
  },
  {
   "cell_type": "code",
   "execution_count": null,
   "id": "661f06ea-4fa5-4acc-8f14-6cf31891889c",
   "metadata": {},
   "outputs": [],
   "source": [
    "# Example 6: Simple Harmonic Oscillator Eigenstates\n",
    "\n",
    "import matplotlib.pyplot as plt\n",
    "import numpy as np\n",
    "\n",
    "particle = Particle.from_initial(wave_packet, x_0=0, p_0=0, sigma_x=1, h_bar=1.0)\n",
    "particle.add_potential(simple_harmonic, omega=5.0)\n",
    "# with h_bar = 1 and omega = 5, we should see the eigenvalues to be E_n = 5(n + 1/2) to match the analytical solution\n",
    "particle.find_eigen(count=6)\n",
    "particle.plot_eigen()"
   ]
  },
  {
   "cell_type": "code",
   "execution_count": null,
   "id": "bc772bc1-259d-4e61-92f0-7ca5d8180f57",
   "metadata": {},
   "outputs": [],
   "source": [
    "# Example 7: Arbitrary Potentials\n",
    "\n",
    "particle = Particle.from_initial(wave_packet, x_0=0, p_0=20, sigma_x=0.2)\n",
    "particle.add_potential(simple_harmonic, omega=5.0)\n",
    "particle.add_potential(barrier, 0.5, height=10)\n",
    "particle.add_potential(barrier, -0.75, height=-10)\n",
    "#particle.animate(x_lim=(-5, 5), notebook=True)\n",
    "particle.find_eigen(count=3)\n",
    "particle.plot_eigen(x_lim=(-3, 3))"
   ]
  },
  {
   "cell_type": "code",
   "execution_count": null,
   "id": "b8376df6-bd47-403b-989c-d4cc013c4e92",
   "metadata": {},
   "outputs": [],
   "source": [
    "# Example 8: Hole\n",
    "\n",
    "particle = Particle.from_initial(wave_packet, x_0=0, p_0=20, sigma_x=0.1)\n",
    "particle.add_potential(barrier, 1.5, height=-200)\n",
    "particle.animate(x_lim=(-4, 4), notebook=True)"
   ]
  },
  {
   "cell_type": "code",
   "execution_count": null,
   "id": "4770f3c1-8855-4540-97fd-f8758c215846",
   "metadata": {},
   "outputs": [],
   "source": [
    "# Example 9: Custom Potentials & Initial Conditions"
   ]
  },
  {
   "cell_type": "code",
   "execution_count": null,
   "id": "1a069b8e-5cd1-4099-9a1c-02df143991b9",
   "metadata": {},
   "outputs": [],
   "source": [
    "# Example 10: Starting From A Superposition of Eigenstates"
   ]
  },
  {
   "cell_type": "code",
   "execution_count": null,
   "id": "edd35c3a-347e-49ee-9c12-8263972e8e4c",
   "metadata": {},
   "outputs": [],
   "source": [
    "# Example 11: Periodic Square Wells\n",
    "\n",
    "particle = Particle.from_initial(wave_packet, x_0=0, p_0=20, sigma_x=0.2)\n",
    "wells = 5\n",
    "for i in range(wells):\n",
    "    particle.add_potential(barrier, -wells/2 + i + 0.5, height=-200, width=0.5)\n",
    "particle.find_eigen()\n",
    "particle.plot_eigen(x_lim=(-6, 6), y_lim=(-5, 1), v_scale=50)"
   ]
  },
  {
   "cell_type": "code",
   "execution_count": null,
   "id": "c52ce5e4-11c0-41b6-8f4b-efbf3b13515b",
   "metadata": {},
   "outputs": [],
   "source": [
    "# Example 12: Time Varying Potentials\n",
    "\n",
    "import numpy as np\n",
    "\n",
    "def pulse(t, x):\n",
    "    return 1000*np.exp(-(0.5*x-5+60*t)**2)*np.cos(5*(x-5+60*t))\n",
    "\n",
    "particle = Particle.from_initial(wave_packet, x_0=0, p_0=20, sigma_x=0.2)\n",
    "particle.add_potential(pulse)\n",
    "particle.animate(x_lim=(-5, 5), notebook=True)"
   ]
  },
  {
   "cell_type": "code",
   "execution_count": null,
   "id": "039a4e7a-f121-47f7-8b73-be2ba6ecc0bc",
   "metadata": {},
   "outputs": [],
   "source": [
    "# Example 13: Repeating Coulomb Potential\n",
    "\n",
    "particle = Particle.from_initial(wave_packet, x_0=2.5, p_0=20, sigma_x=0.2)\n",
    "for i in range(7):\n",
    "    particle.add_potential(coulomb, x_0=-15+5*i)\n",
    "particle.animate(x_lim=(-15, 15), notebook=True)"
   ]
  },
  {
   "cell_type": "markdown",
   "id": "d14d39f3-3887-4f09-b769-06f436bb1874",
   "metadata": {},
   "source": [
    "### Todo:\n",
    "- stability & conservation\n",
    "- export animations\n",
    "- boundary conditions (transparent, periodic)\n",
    "- more builtin potentials, more initial conditions, etc"
   ]
  }
 ],
 "metadata": {
  "kernelspec": {
   "display_name": "Python 3 (ipykernel)",
   "language": "python",
   "name": "python3"
  },
  "language_info": {
   "codemirror_mode": {
    "name": "ipython",
    "version": 3
   },
   "file_extension": ".py",
   "mimetype": "text/x-python",
   "name": "python",
   "nbconvert_exporter": "python",
   "pygments_lexer": "ipython3",
   "version": "3.12.6"
  }
 },
 "nbformat": 4,
 "nbformat_minor": 5
}
