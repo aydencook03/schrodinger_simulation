{
 "cells": [
  {
   "cell_type": "markdown",
   "id": "4f502e87-ada5-4353-8536-7607ffa87084",
   "metadata": {},
   "source": [
    "# Simulating the Schrodinger Equation\n",
    "\n",
    "---"
   ]
  },
  {
   "cell_type": "markdown",
   "id": "076fa505-8c48-484b-8373-8b83b8ab2aa5",
   "metadata": {},
   "source": [
    "### Math Background\n",
    "\n",
    "#### The Schrodinger Equation\n",
    "\n",
    "From quantum mechanics we know that the time evolution of a quantum state $|\\psi\\rangle$ is governed by the Schrodinger Equation.\n",
    "\n",
    "$$\\hat{H}|\\psi\\rangle = i\\hbar\\frac{d}{dt}|\\psi\\rangle$$\n",
    "\n",
    "Where $\\hat{H}$ is the Hamiltonian Operator and is associated with the energy of the system. Classically we also know that the energy of a system is given by the sum of kinetic and potential energy.\n",
    "\n",
    "$$E = H = \\frac{p^2}{2m} + V$$\n",
    "\n",
    "Focusing on a single particle system in one dimension of space gives a wavefunction that is represented by a complex-valued function over the x-axis, $\\psi(t, x)$. Substituting the appropriate operators into the Schrodinger Equation gives the PDE describing the dynamics of this complex-valued function.\n",
    "\n",
    "$$\\left(-\\frac{\\hbar^2}{2m}\\frac{\\partial^2}{\\partial x^2} + V(t, x)\\right)\\psi(t,x) = i\\hbar\\frac{\\partial\\psi}{\\partial t}$$\n",
    "\n",
    "Multiplying by $\\frac{-i}{\\hbar}$ and expanding gives an equation that will be more useful after discretization.\n",
    "\n",
    "$$\\frac{\\partial\\psi}{\\partial t} = \\frac{i\\hbar}{2m}\\frac{\\partial^2\\psi}{\\partial x^2} - \\frac{i}{\\hbar}V(t,x)\\psi(t,x)$$\n",
    "\n",
    "#### Taylor Series\n",
    "\n",
    "A Taylor-Series expansion can be used to predict the forward step of a function using the derivatives at the current point.\n",
    "\n",
    "$$f(x+h) = f(x) + hf'(x) + \\frac{h^2}{2}f''(x) + O(h^3)$$\n",
    "\n",
    "Combining a few different forward steps allows us to get a finite difference approximation for $f''(x)$.\n",
    "\n",
    "$$\\frac{f(x+h) - 2f(x) + f(x-h)}{h^2} + O(h) = f''(x)$$ \n",
    "\n",
    "#### Discretizing Space\n",
    "\n",
    "The ultimate goal here is to be able to simulate these one-dimensional wavefunctions, $\\psi(t,x)$, for any potential $V(t,x)$ and any initial condition $\\psi(0,x)$.\n",
    "\n",
    "$$x \\rightarrow x_j$$\n",
    "$$x + \\Delta x \\rightarrow x_{j+1}$$\n",
    "$$\\psi(t,x) \\rightarrow \\psi_j(t)$$\n",
    "$$\\psi(t,x+\\Delta x) \\rightarrow \\psi_{j+1}(t)$$\n",
    "\n",
    "$$\\frac{d\\psi_j}{dt} = \\frac{i\\hbar}{2m}D^2\\psi_j(t) - \\frac{i}{\\hbar}V(t,x_j)\\psi_j(t)$$\n",
    "\n",
    "$$D^2\\psi_j = \\frac{\\psi_{j+1} - 2\\psi_{j} + \\psi_{j-1}}{(\\Delta x)^2}$$\n",
    "\n",
    "#### Time Step"
   ]
  },
  {
   "cell_type": "markdown",
   "id": "862a1c07-c054-490f-8a10-223dff928c5f",
   "metadata": {},
   "source": [
    "### Examples\n",
    "\n",
    "To use the `schrodinger.py` module, ensure that you have numpy and matplotlib installed. To interactively see the example animations with `%matplotlib widget`, you will need ipympl installed. A Pipfile has been included so that the command `pipenv sync -d` can be used to automatically install all dependencies. Make sure to stop every animation with 'q' before running another."
   ]
  },
  {
   "cell_type": "code",
   "execution_count": null,
   "id": "4b20b0c9-a4da-49da-9e45-db0fa5c07dd2",
   "metadata": {},
   "outputs": [],
   "source": [
    "# Import the module and tell matplotlib we're using notebook widgets\n",
    "\n",
    "from schrodinger import *\n",
    "%matplotlib widget"
   ]
  },
  {
   "cell_type": "code",
   "execution_count": null,
   "id": "26c00ab5-6140-4176-9760-816cc3156140",
   "metadata": {},
   "outputs": [],
   "source": [
    "# Example 1: Diffusion\n",
    "\n",
    "particle = Particle.from_initial(wave_packet, x_0=0, p_0=0, sigma_x=0.1)\n",
    "particle.animate(x_lim=(-2, 2), notebook=True)"
   ]
  },
  {
   "cell_type": "code",
   "execution_count": null,
   "id": "971d8b95-3b79-48ae-8473-a0a777c0deb2",
   "metadata": {},
   "outputs": [],
   "source": [
    "# Example 2: Travelling Particle\n",
    "\n",
    "particle = Particle.from_initial(wave_packet, x_0=0, p_0=20, sigma_x=0.1)\n",
    "particle.animate(x_lim=(-2, 2), notebook=True)"
   ]
  },
  {
   "cell_type": "code",
   "execution_count": null,
   "id": "3dc0fe19-7bac-4f96-a81a-445b924edd70",
   "metadata": {},
   "outputs": [],
   "source": [
    "# Example 3: Infinite Square Well"
   ]
  },
  {
   "cell_type": "code",
   "execution_count": null,
   "id": "ed335609-0413-4564-9c2a-fe6af3c61968",
   "metadata": {},
   "outputs": [],
   "source": [
    "# Example 3: Tunneling\n",
    "\n",
    "particle = Particle.from_initial(wave_packet, x_0=0, p_0=20, sigma_x=0.1)\n",
    "particle.add_potential(barrier, 1.5)\n",
    "particle.animate(x_lim=(-4, 4), notebook=True)"
   ]
  },
  {
   "cell_type": "code",
   "execution_count": null,
   "id": "133133bd-a959-4a4a-bd80-1fbb57488860",
   "metadata": {},
   "outputs": [],
   "source": [
    "# Example 4: Simple Harmonic Oscillator"
   ]
  },
  {
   "cell_type": "code",
   "execution_count": null,
   "id": "7201717b-c9ef-4280-8ab7-96b19f733aef",
   "metadata": {},
   "outputs": [],
   "source": [
    "# Example 5: Finite Square Well Ground State"
   ]
  },
  {
   "cell_type": "code",
   "execution_count": null,
   "id": "661f06ea-4fa5-4acc-8f14-6cf31891889c",
   "metadata": {},
   "outputs": [],
   "source": [
    "# Example 6: Simple Harmonic Oscillator Eigenstates\n",
    "\n",
    "# evolve the eigenstate in time"
   ]
  },
  {
   "cell_type": "code",
   "execution_count": null,
   "id": "edd35c3a-347e-49ee-9c12-8263972e8e4c",
   "metadata": {},
   "outputs": [],
   "source": [
    "# Example 7: Periodic Square Wells"
   ]
  },
  {
   "cell_type": "markdown",
   "id": "d14d39f3-3887-4f09-b769-06f436bb1874",
   "metadata": {},
   "source": [
    "### Todo:\n",
    "- stability & conservation\n",
    "- boundary conditions (transparent, periodic)\n",
    "- more potentials, more initial conditions, ..."
   ]
  },
  {
   "cell_type": "code",
   "execution_count": null,
   "id": "73555f88-7999-4f90-bc54-a0888288c486",
   "metadata": {},
   "outputs": [],
   "source": []
  }
 ],
 "metadata": {
  "kernelspec": {
   "display_name": "Python 3 (ipykernel)",
   "language": "python",
   "name": "python3"
  },
  "language_info": {
   "codemirror_mode": {
    "name": "ipython",
    "version": 3
   },
   "file_extension": ".py",
   "mimetype": "text/x-python",
   "name": "python",
   "nbconvert_exporter": "python",
   "pygments_lexer": "ipython3",
   "version": "3.11.8"
  }
 },
 "nbformat": 4,
 "nbformat_minor": 5
}
