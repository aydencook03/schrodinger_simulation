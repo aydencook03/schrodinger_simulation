{
 "cells": [
  {
   "cell_type": "markdown",
   "id": "4f502e87-ada5-4353-8536-7607ffa87084",
   "metadata": {},
   "source": [
    "# Simulating the Schrodinger Equation\n",
    "\n",
    "---"
   ]
  },
  {
   "cell_type": "code",
   "execution_count": null,
   "id": "597ea34c-9a65-470a-bf15-a70cd91ed74d",
   "metadata": {},
   "outputs": [],
   "source": []
  }
 ],
 "metadata": {
  "kernelspec": {
   "display_name": "Python 3 (ipykernel)",
   "language": "python",
   "name": "python3"
  },
  "language_info": {
   "codemirror_mode": {
    "name": "ipython",
    "version": 3
   },
   "file_extension": ".py",
   "mimetype": "text/x-python",
   "name": "python",
   "nbconvert_exporter": "python",
   "pygments_lexer": "ipython3",
   "version": "3.11.8"
  }
 },
 "nbformat": 4,
 "nbformat_minor": 5
}
