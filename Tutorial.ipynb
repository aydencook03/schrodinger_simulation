{
 "cells": [
  {
   "cell_type": "markdown",
   "id": "4f502e87-ada5-4353-8536-7607ffa87084",
   "metadata": {},
   "source": [
    "# Simulating the Schrodinger Equation\n",
    "\n",
    "---"
   ]
  },
  {
   "cell_type": "markdown",
   "id": "076fa505-8c48-484b-8373-8b83b8ab2aa5",
   "metadata": {},
   "source": [
    "### Background\n",
    "\n",
    "The principles of quantum mechanics tell us that the time evolution of a quantum state $|\\psi\\rangle$ is governed by the Schrodinger Equation.\n",
    "\n",
    "$$\\hat{H}|\\psi\\rangle = i\\hbar\\frac{\\partial}{\\partial t}|\\psi\\rangle$$\n",
    "\n",
    "Where $\\hat{H}$ is the Hamiltonian Operator and is associated with the energy of the system. Classically we also know that the energy of a system is given by the sum of kinetic and potential energy.\n",
    "\n",
    "$$E = H = \\frac{p^2}{2m} + V$$\n",
    "\n",
    "Here we will be focusing on the dynamics of a particle in one-dimensional space, so it is natural to represent all of our equations in the position basis. By projecting our state and operators onto this basis, we have $\\langle x|\\psi\\rangle = \\psi(t, x)$ and $\\langle x|\\hat{p}|\\psi\\rangle = -i\\hbar\\frac{\\partial\\psi}{\\partial x}$.\n",
    "\n",
    "We may finally combine all of this with the Schrodinger Equation to yield a PDE that describes the dynamics of our wavefunction.\n",
    "\n",
    "$$-\\frac{\\hbar^2}{2m}\\frac{\\partial^2\\psi}{\\partial x^2} + V(x) = i\\hbar\\frac{\\partial\\psi}{\\partial t}$$"
   ]
  },
  {
   "cell_type": "markdown",
   "id": "3b638dd9-675c-4f87-a529-b97c8615b15e",
   "metadata": {},
   "source": [
    "### Discretizing"
   ]
  },
  {
   "cell_type": "code",
   "execution_count": null,
   "id": "75ba8d80-810a-482b-b3ec-2456c0175b5b",
   "metadata": {},
   "outputs": [],
   "source": []
  }
 ],
 "metadata": {
  "kernelspec": {
   "display_name": "Python 3 (ipykernel)",
   "language": "python",
   "name": "python3"
  },
  "language_info": {
   "codemirror_mode": {
    "name": "ipython",
    "version": 3
   },
   "file_extension": ".py",
   "mimetype": "text/x-python",
   "name": "python",
   "nbconvert_exporter": "python",
   "pygments_lexer": "ipython3",
   "version": "3.11.8"
  }
 },
 "nbformat": 4,
 "nbformat_minor": 5
}
